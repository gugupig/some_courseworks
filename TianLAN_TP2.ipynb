{
  "cells": [
    {
      "cell_type": "markdown",
      "metadata": {
        "id": "view-in-github",
        "colab_type": "text"
      },
      "source": [
        "<a href=\"https://colab.research.google.com/github/gugupig/some_courseworks/blob/main/TianLAN_TP2.ipynb\" target=\"_parent\"><img src=\"https://colab.research.google.com/assets/colab-badge.svg\" alt=\"Open In Colab\"/></a>"
      ]
    },
    {
      "cell_type": "code",
      "execution_count": null,
      "metadata": {
        "id": "MbVFcCXbDEV7"
      },
      "outputs": [],
      "source": [
        "!pip install polyglot\n",
        "!pip install PyICU\n",
        "!pip install pycld2\n",
        "!pip install morfessor"
      ]
    },
    {
      "cell_type": "code",
      "execution_count": null,
      "metadata": {
        "id": "qeQBERrxDHhk"
      },
      "outputs": [],
      "source": [
        "import tensorflow_datasets as tfds\n",
        "import random\n",
        "import polyglot\n",
        "from polyglot.text import Text\n",
        "from polyglot.detect.base import logger\n",
        "logger.disabled = True\n",
        "import sys"
      ]
    },
    {
      "cell_type": "markdown",
      "metadata": {
        "id": "tmXUdzT7Kw0O"
      },
      "source": [
        "# **<---------- Table of content available!**"
      ]
    },
    {
      "cell_type": "markdown",
      "metadata": {
        "id": "VgedA5BM8NEU"
      },
      "source": [
        "# 1 Appetizers"
      ]
    },
    {
      "cell_type": "markdown",
      "metadata": {
        "id": "ldvryu1K-xlV"
      },
      "source": [
        "##Question 1"
      ]
    },
    {
      "cell_type": "markdown",
      "metadata": {
        "id": "Ep-dNX-l__4s"
      },
      "source": [
        "How is the TTR (type-token ratio) defined? Why is this a ‘good’ measure of the morphological complexity? Which other metric could you use to quantify morphological complexity?\n"
      ]
    },
    {
      "cell_type": "markdown",
      "metadata": {
        "id": "B_TzZqO2AE4n"
      },
      "source": [
        "TTR: The total number of uninque word types divided by the total number of word tokens in a document .\n",
        "\n",
        "Since morphological complexity of a text can be roughly represented by how many different forms can a lemma takes,TTR can be a very intuitive choice for mesuring the morphological complexity,however,since it's a ratio,it is strongly affected by the length of the text (total number of word tokens).\n",
        "\n",
        "Entropy is a possible metric of morphological complexity,since it mesure the level of 'chaotic' of a system,so a 'word' in a morphological more complex language has more choices, so more \"chaotic'"
      ]
    },
    {
      "cell_type": "markdown",
      "metadata": {
        "id": "T2c_vZ4gG-zO"
      },
      "source": [
        "##Question 2\n",
        "\n",
        "\n"
      ]
    },
    {
      "cell_type": "markdown",
      "metadata": {
        "id": "9SO95Z9QHFhD"
      },
      "source": [
        "Why do we consider a language modeling task?"
      ]
    },
    {
      "cell_type": "markdown",
      "metadata": {
        "id": "4JW2QOOlO9Qt"
      },
      "source": [
        "Because a traditional LM (like the N-gram model) do not consider the sub-word level information, so it should be sensitive to the morphology complexity"
      ]
    },
    {
      "cell_type": "markdown",
      "metadata": {
        "id": "p87Ei6ZFHHVj"
      },
      "source": [
        "## Question 3"
      ]
    },
    {
      "cell_type": "markdown",
      "metadata": {
        "id": "YBnn5uYcHMW4"
      },
      "source": [
        "How is the perplexity defined? Can we compare perplexity across corpora or languages?\n",
        "Conclude.\n"
      ]
    },
    {
      "cell_type": "markdown",
      "metadata": {
        "id": "0JGzjCsbSIL6"
      },
      "source": [
        "the perplexity (of a LM) on a sentence ($w_1$ $w_2$ ... $w_N$) can be defined as :\n",
        "\n",
        "$P(w_1 w_2 ... w_N)^\\frac{1}{N}$\n",
        "\n",
        "hence,the N-th root of the inversed probability (asssigned by the LM) of this sentence\n",
        "\n",
        "For getting a meaningful comparison of perplexity across corpora or languages, it's important to keep the same vocabulary size (or at least similar) across the different corpora/languages because it has a huge impact on the performance of an LM (an LM will give a better prediction on a language that has very limited vocabulary)\n"
      ]
    },
    {
      "cell_type": "markdown",
      "metadata": {
        "id": "HY8T1N4RHbK6"
      },
      "source": [
        "## Question 4"
      ]
    },
    {
      "cell_type": "markdown",
      "metadata": {
        "id": "euQ2T2JVHS31"
      },
      "source": [
        "What conclusions can you draw from Figure 1"
      ]
    },
    {
      "cell_type": "markdown",
      "metadata": {
        "id": "WXSaM3vOq-3R"
      },
      "source": [
        "Figure 1 shows that:\n",
        "1. There is a negative correlation between morphological complexity (TTR) and the performance of an LM (perplexity). \n",
        "2. This relation is not necessarily linear : some languages (at the bottom of the figure) has relatively high TTR but the LM still perform adequately.\n",
        "3. Languages in the same morphological type occupy a similar location, which means the perplexities and TTR tend to be similar for languages of the same morphological type."
      ]
    },
    {
      "cell_type": "markdown",
      "metadata": {
        "id": "eC11z5ErHhXI"
      },
      "source": [
        "## Question 5"
      ]
    },
    {
      "cell_type": "markdown",
      "metadata": {
        "id": "CSEbkHwxHj3Y"
      },
      "source": [
        "Why will we not consider the corpus used in [1]? Why are the FAIR principles1\n",
        "a solution\n",
        "to this problem?"
      ]
    },
    {
      "cell_type": "markdown",
      "metadata": {
        "id": "FBo9RcLe-_jS"
      },
      "source": [
        "#2 Main Course"
      ]
    },
    {
      "cell_type": "markdown",
      "metadata": {
        "id": "THhbNbuN_Jp-"
      },
      "source": [
        "##2.1 Generating the corpora"
      ]
    },
    {
      "cell_type": "markdown",
      "metadata": {
        "id": "fGdaU08OIBcq"
      },
      "source": [
        "### Question 6\n",
        "Why the role of the data_dir parameter in line 3 of Figure 2? What is the meaning of its\n",
        "value?\n"
      ]
    },
    {
      "cell_type": "markdown",
      "metadata": {
        "id": "14_COwN0Uv9R"
      },
      "source": [
        " data_dir is the path of the directory to read/write data"
      ]
    },
    {
      "cell_type": "markdown",
      "metadata": {
        "id": "K8VP16qJIWmN"
      },
      "source": [
        "### Question 7\n",
        "Why do we have to specify a buffer_size parameter for the shuffle method? How do\n",
        "we choose its value?"
      ]
    },
    {
      "cell_type": "markdown",
      "metadata": {
        "id": "BZpsO8y6YAiI"
      },
      "source": [
        "buffer_size parameter for the shuffle method determines the amount of buffer elements picked from (not randomly) the source dataset, the shuffle only apply to these buffed elements, not to the entire dataset, so it affects how random the shuffling is.\n",
        "\n",
        "the choice of buffer_size should take into account the available system memory as well as the desired randomness"
      ]
    },
    {
      "cell_type": "markdown",
      "metadata": {
        "id": "leABjqpfIZ5a"
      },
      "source": [
        "### Question 8\n",
        "\n",
        "Why do we have to extract sentences out of Wikipedia articles?"
      ]
    },
    {
      "cell_type": "markdown",
      "metadata": {
        "id": "nyQ9q_TAYc6W"
      },
      "source": [
        "1. the N-gram model trains on sentences\n",
        "\n",
        "2. extracting sentences from different articles make the trained LM more representative for the whole language, not a single article"
      ]
    },
    {
      "cell_type": "markdown",
      "metadata": {
        "id": "jofue8y2IdKn"
      },
      "source": [
        "### Question 9\n",
        "\n",
        "Why do we enforce that all train and test sets have the same size?"
      ]
    },
    {
      "cell_type": "markdown",
      "metadata": {
        "id": "At0RDN97YszV"
      },
      "source": [
        "As mentioned in Question 3, the vocabulary size heavily impacts the performance of an LM, so making all dataset the same size eliminates as much as possible the impact of vocabulary size \n",
        "\n",
        "(supposed different languages has a similar size of vocabulary in the same amount of text, which is a very big assumption)"
      ]
    },
    {
      "cell_type": "markdown",
      "metadata": {
        "id": "Jn6tL0Q7i_1A"
      },
      "source": [
        "### Question 10\n",
        "What kind of information polyglot is using to identify sentence boundaries and segment\n",
        "sentences into tokens. Comment."
      ]
    },
    {
      "cell_type": "markdown",
      "metadata": {
        "id": "HgWz0zgEjCP-"
      },
      "source": [
        "According to the Polyglot document, it uses the Unicode Text Segmentation algorithm to detect sentence boundaries, it seems to me that this algorithm uses a series of rules to determine sentence boundary, the information they use are: the upper or lower case of a letter, white space etc.\n",
        "see detail : http://www.unicode.org/reports/tr29/#Sentence_Boundary_Rules"
      ]
    },
    {
      "cell_type": "markdown",
      "metadata": {
        "id": "L00zIueYJgbE"
      },
      "source": [
        "###Code 11 and 13 : Data preparation\n",
        "Extract sentences from data source , tokenized them and save the text file to the google drive"
      ]
    },
    {
      "cell_type": "code",
      "execution_count": null,
      "metadata": {
        "id": "_omRFjuXDJk0"
      },
      "outputs": [],
      "source": [
        "def build_dataset(language,mode,nb):\n",
        "  print( f\"\\n ---- [{mode}] Now processing : {language} ----\" )\n",
        "  data = tfds.load('wiki40b/'+language,split = mode,data_dir=\"gs://tfds-data/datasets\")\n",
        "  data = data.shuffle(buffer_size = 10000)\n",
        "  generator = iter(data)\n",
        "  i = 0\n",
        "  file = open(language+'_'+mode,'w',encoding='utf-8')\n",
        "  while i<nb:\n",
        "    dupe_checker = ''\n",
        "    trigger = 0\n",
        "    try:\n",
        "      next_article = next(generator)\n",
        "    except StopIteration:\n",
        "      generator = iter(data)\n",
        "      next_article = next(generator)\n",
        "    for sentence in next_article['text'].numpy().decode('utf-8').split('\\n'):\n",
        "        if sentence == '_START_PARAGRAPH_':\n",
        "          trigger = 1\n",
        "        if trigger == 1 and sentence not in  ['_START_ARTICLE_',\"_START_SECTION_\",'_START_PARAGRAPH_']:\n",
        "          trigger = 0\n",
        "          try:\n",
        "              s = Text(sentence).sentences\n",
        "              choices = random.choice(s)\n",
        "              try :\n",
        "                if choices[0:9] == '_NEWLINE_':\n",
        "                  choices = choices[9:]\n",
        "                if '_NEWLINE_' in choices:\n",
        "                  choices = random.choice(s)\n",
        "              except IndexError:\n",
        "                pass\n",
        "              words = list(choices.words)\n",
        "          except:\n",
        "            pass\n",
        "          if len(words) >3 and words != dupe_checker:\n",
        "            file.write(\" \".join(words)+'\\n')\n",
        "            i+=1\n",
        "            sys.stdout.write('\\r'+str(i) + '/' + str(nb) + ' sentences added')\n",
        "            sys.stdout.flush()\n",
        "          if i == nb:\n",
        "            break\n",
        "          dupe_checker = words\n",
        "  file.close()"
      ]
    },
    {
      "cell_type": "code",
      "execution_count": null,
      "metadata": {
        "id": "Rx-9WzIA4dFU"
      },
      "outputs": [],
      "source": [
        "#make a liitle toy sample for testing the build funtion\n",
        "#Warnig this will overwrite existed file !!!\n",
        "build_dataset(language = 'en',mode = 'test',nb = 1000)"
      ]
    },
    {
      "cell_type": "code",
      "execution_count": null,
      "metadata": {
        "id": "LO9SUskJLmJQ",
        "colab": {
          "base_uri": "https://localhost:8080/"
        },
        "outputId": "4bd60895-123e-4157-d60c-6b69a4da595f"
      },
      "outputs": [
        {
          "output_type": "stream",
          "name": "stdout",
          "text": [
            "Mounted at /content/drive\n"
          ]
        }
      ],
      "source": [
        "from google.colab import drive\n",
        "drive.mount('/content/drive')"
      ]
    },
    {
      "cell_type": "code",
      "execution_count": null,
      "metadata": {
        "id": "ShJU2r4jDL7R"
      },
      "outputs": [],
      "source": [
        "lang_list = ['en', 'ar', 'zh-cn', 'zh-tw', 'nl', 'fr', 'de', 'it', 'ja', 'ko', 'pl', 'pt', 'ru', 'es', 'th', 'tr', 'bg', 'ca', 'cs', 'da', 'el', 'et', 'fa', 'fi', 'he', 'hi', 'hr', 'hu', 'id', 'lt', 'lv', 'ms', 'no', 'ro', 'sk', 'sl', 'sr', 'sv', 'tl', 'uk', 'vi']"
      ]
    },
    {
      "cell_type": "code",
      "execution_count": null,
      "metadata": {
        "id": "VPc1gbIkDZOv"
      },
      "outputs": [],
      "source": [
        "import shutil\n",
        "lang_list_1 = lang_list.copy()\n",
        "lang_list_2 = lang_list.copy()\n",
        "while lang_list_1:\n",
        "  language = lang_list_1.pop()\n",
        "  filename = language + '_' + 'train'\n",
        "  build_dataset(language = language,mode = 'train',nb = 40000)\n",
        "  shutil.copy(filename, \"/content/drive/MyDrive/Dataset\")\n",
        "while lang_list_2:\n",
        "  language = lang_list_2.pop()\n",
        "  filename = language + '_' + 'test'\n",
        "  build_dataset(language = language,mode = 'test',nb = 3000)\n",
        "  shutil.copy(filename, \"/content/drive/MyDrive/Dataset\")"
      ]
    },
    {
      "cell_type": "markdown",
      "metadata": {
        "id": "VPDLdoifjt-3"
      },
      "source": [
        "### Question 12\n",
        "\n",
        "Why do we have to remove duplicate sentences?"
      ]
    },
    {
      "cell_type": "markdown",
      "metadata": {
        "id": "AGuFWxrGjzV8"
      },
      "source": [
        "1. Duplicated sentences will affect the perfomence of the LM\n",
        "2. Duplicated sentences contain duplicated words, which will affect the calculation of TTR"
      ]
    },
    {
      "cell_type": "markdown",
      "metadata": {
        "id": "aUzAwyYl_Rvn"
      },
      "source": [
        "##2.2 Extracting morphological information"
      ]
    },
    {
      "cell_type": "markdown",
      "metadata": {
        "id": "n0_uFy7HmDb8"
      },
      "source": [
        "### Code 14 : Compute the TTR for all datasets"
      ]
    },
    {
      "cell_type": "code",
      "execution_count": null,
      "metadata": {
        "id": "PcDXqkfVmsRd"
      },
      "outputs": [],
      "source": [
        "def TTR(data):\n",
        "  tokens = []\n",
        "  with open(data,'r',encoding='utf-8') as file:\n",
        "    for line in file:\n",
        "      tokens = tokens + line.strip().split(' ')\n",
        "  return len(list(set(tokens)))/len(tokens)"
      ]
    },
    {
      "cell_type": "code",
      "execution_count": null,
      "metadata": {
        "id": "suqzm3Pn5EiL"
      },
      "outputs": [],
      "source": [
        "import shutil\n",
        "ttr_dict = {}\n",
        "for lang in lang_list:\n",
        "  ttr_dict[lang] = TTR('/content/'+lang+'_train')\n",
        "import pickle\n",
        "with open('ttr_dict.pkl','wb') as file:\n",
        "  pickle.dump(ttr_dict,file)\n",
        "shutil.copy('ttr_dict.pkl', \"/content/drive/MyDrive/Dataset\")"
      ]
    },
    {
      "cell_type": "markdown",
      "metadata": {
        "id": "RHS0V62ymdYl"
      },
      "source": [
        "### Question 15 \n",
        "Knowing that you will have to compute for each language its TTR and its perplexity, what\n",
        "is the best way to store the TTR?\n"
      ]
    },
    {
      "cell_type": "markdown",
      "metadata": {
        "id": "w9CDkGZknBee"
      },
      "source": [
        "The best way to store these data is a dictionary where keys are language and the values are a tuple of (TTR, PPL)\n",
        "P.S. here I use two separate dictionaries: ttr_dict and ppl_test_dict"
      ]
    },
    {
      "cell_type": "markdown",
      "metadata": {
        "id": "mNktH18Jnx2u"
      },
      "source": [
        "### Code 16\n",
        "\n",
        "Classify each language of the wiki40b corpus into one four categories\n",
        "\n"
      ]
    },
    {
      "cell_type": "markdown",
      "metadata": {
        "id": "cjStlrK0n8z2"
      },
      "source": [
        "According to the document on the WALS, I choose 3 features to classify the morphological type of a language: \n",
        "\n",
        "1. Fusion of Selected Inflectional Formatives : Exclusively concatenative,exclusively isolating etc.\n",
        "\n",
        "2. Exponence of Selected Inflectional Formatives : Monoexponential case ,Case + number etc.\n",
        "3. Possessive Classification : No possessive classification ,Two classes etc.\n",
        "\n",
        "\n",
        "In order to collect this information automatically from the WALS website. I use the feedparser library to parse the RSS feed of each language, here is the RSS feed for English:\n",
        "\n",
        "https://wals.info/values.atom?language=eng&sEcho=1&iSortingCols=1&iSortCol_0=0&sSortDir_0=asc \n",
        "\n",
        "However, since the language code provided by the dataset is ISO639-1 but WALS use WALS code, additional conversion is needed please see Appendix\n",
        "\n",
        "i only found 38 out 41(40 since WALS only has Mandarin for both zh-cn and zh-tw) \n",
        "\n",
        "Missing language are 'hr' and 'sr' and since Modern Standard Arabic do not have enough data on WALS , i choose Arabic (Egyptian) as a replacement for the MSA"
      ]
    },
    {
      "cell_type": "markdown",
      "metadata": {
        "id": "V0uZiRPuuiK0"
      },
      "source": [
        "#### Code 16.1 : Parse the RSS feed of each language and collect data\n",
        "\n",
        "\n",
        "Only 20 out 41(40) language has enough information on the WALS"
      ]
    },
    {
      "cell_type": "code",
      "execution_count": null,
      "metadata": {
        "id": "x185nEQ-rtYr"
      },
      "outputs": [],
      "source": [
        "!pip install feedparser"
      ]
    },
    {
      "cell_type": "code",
      "execution_count": null,
      "metadata": {
        "id": "k8apsX9CrYmM"
      },
      "outputs": [],
      "source": [
        "#Before run this cell,run the wals_code cell in the appendix first\n",
        "import feedparser\n",
        "lang_modified  =  lang_list.copy()\n",
        "for i in range(len(lang_modified)):\n",
        "    if lang_modified[i]  == 'zh-tw':\n",
        "        lang_modified[i] = 'zh'\n",
        "    if lang_modified[i]  == 'zh-cn':\n",
        "        lang_modified[i] = 'zh'\n",
        "\n",
        "\n",
        "featrues_fusion = ['Exclusively concatenative','Exclusively isolating','Exclusively tonal','Tonal/isolating','Tonal/concatenative','Ablaut/concatenative','Isolating/concatenative']\n",
        "featrues_exponence = ['Monoexponential case' ,'Case + number','Case + referentiality', 'Case + TAM','No case']\n",
        "featrues_possessive =['No possessive classification','Two classes','Three to five classes','More than five classes']\n",
        "\n",
        "lang_features_dict = {lang:[] for lang in lang_modified}\n",
        "for lang,code in wals_code.items():\n",
        "  url = f'https://wals.info/values.atom?language={code}&sEcho=1&iSortingCols=1&iSortCol_0=0&sSortDir_0=asc'\n",
        "  feed = feedparser.parse(url)\n",
        "  entries = feed.entries\n",
        "  if len(entries) < 1000:\n",
        "    for e in entries:\n",
        "      for f in featrues_fusion:\n",
        "        if e['title'] == f:\n",
        "          lang_features_dict[lang].append(f)\n",
        "          break\n",
        "      for f in featrues_exponence:\n",
        "        if e['title'] == f:\n",
        "          lang_features_dict[lang].append(f)\n",
        "          break\n",
        "      for f in featrues_possessive:\n",
        "        if e['title'] == f:\n",
        "          lang_features_dict[lang].append(f)\n",
        "          break\n",
        "lang_features_dict['zh'] = list(set(lang_features_dict['zh']))\n",
        "lang_features_dict['zh-tw'] = lang_features_dict['zh']\n",
        "lang_features_dict['zh-cn'] = lang_features_dict['zh']\n",
        "del lang_features_dict['zh']"
      ]
    },
    {
      "cell_type": "code",
      "execution_count": null,
      "metadata": {
        "id": "y4mHY6znrYmR"
      },
      "outputs": [],
      "source": [
        "import json\n",
        "#20 out of 41 languages are missing\n",
        "print (json.dumps(lang_features_dict, indent=2))\n",
        "missing = [i for i in lang_features_dict if lang_features_dict[i] == []]\n",
        "len(missing)\n",
        "#have = [i for i in lang_features_dict.keys() if i not in missing]\n",
        "have = {i:j for i,j in lang_features_dict.items() if i not in missing}"
      ]
    },
    {
      "cell_type": "code",
      "execution_count": null,
      "metadata": {
        "colab": {
          "base_uri": "https://localhost:8080/"
        },
        "id": "2JuZeZYFw7YS",
        "outputId": "9463fb6b-f0dc-4275-ab48-98287a3dd665"
      },
      "outputs": [
        {
          "name": "stdout",
          "output_type": "stream",
          "text": [
            "+----+------------------------------+------------------------------+------------------------------+------------------------------+------------------------------+------------------------------+------------------------------+------------------------------+------------------------------+------------------------------+------------------------------+------------------------------+------------------------------+------------------------------+------------------------------+------------------------------+------------------------------+------------------------------+------------------------------+------------------------------+------------------------------+\n",
            "|    | en                           | ar                           | fr                           | de                           | ja                           | ko                           | ru                           | es                           | th                           | tr                           | el                           | fa                           | fi                           | he                           | hi                           | hu                           | id                           | tl                           | vi                           | zh-tw                        | zh-cn                        |\n",
            "|----+------------------------------+------------------------------+------------------------------+------------------------------+------------------------------+------------------------------+------------------------------+------------------------------+------------------------------+------------------------------+------------------------------+------------------------------+------------------------------+------------------------------+------------------------------+------------------------------+------------------------------+------------------------------+------------------------------+------------------------------+------------------------------|\n",
            "|  0 | Exclusively concatenative    | Ablaut/concatenative         | Exclusively concatenative    | Exclusively concatenative    | Exclusively concatenative    | Exclusively concatenative    | Exclusively concatenative    | Exclusively concatenative    | Isolating/concatenative      | Exclusively concatenative    | Exclusively concatenative    | Exclusively concatenative    | Exclusively concatenative    | Ablaut/concatenative         | Exclusively concatenative    | Exclusively concatenative    | Exclusively isolating        | Exclusively concatenative    | Exclusively isolating        | No possessive classification | No possessive classification |\n",
            "|  1 | No case                      | No case                      | No case                      | Case + number                | Monoexponential case         | Monoexponential case         | Case + number                | Monoexponential case         | No case                      | Monoexponential case         | Case + number                | Monoexponential case         | Case + number                | No case                      | Monoexponential case         | Monoexponential case         | No case                      | Case + referentiality        | No case                      | Monoexponential case         | Monoexponential case         |\n",
            "|  2 | No possessive classification | No possessive classification | No possessive classification | No possessive classification | No possessive classification | No possessive classification | No possessive classification | No possessive classification | No possessive classification | No possessive classification | No possessive classification | No possessive classification | No possessive classification | No possessive classification | No possessive classification | No possessive classification | No possessive classification | No possessive classification | No possessive classification | Isolating/concatenative      | Isolating/concatenative      |\n",
            "+----+------------------------------+------------------------------+------------------------------+------------------------------+------------------------------+------------------------------+------------------------------+------------------------------+------------------------------+------------------------------+------------------------------+------------------------------+------------------------------+------------------------------+------------------------------+------------------------------+------------------------------+------------------------------+------------------------------+------------------------------+------------------------------+\n"
          ]
        }
      ],
      "source": [
        "import pandas as pd\n",
        "from tabulate import tabulate\n",
        "lang_have = pd.DataFrame.from_dict(have)\n",
        "print(tabulate(lang_have, headers='keys', tablefmt='psql'))"
      ]
    },
    {
      "cell_type": "markdown",
      "metadata": {
        "id": "Cn8ufoUtzepy"
      },
      "source": [
        "Base on the previous information collected on the WALS, 20 languages are classified as follow:"
      ]
    },
    {
      "cell_type": "code",
      "execution_count": null,
      "metadata": {
        "id": "4r3iaQNcwf_E"
      },
      "outputs": [],
      "source": [
        "exsting_morpho_type = {'en': 'fusional',\n",
        " 'ar': 'introflexive',\n",
        " 'fr': 'fusional',\n",
        " 'de': 'fusional',\n",
        " 'ja': 'agglutinative',\n",
        " 'ko': 'agglutinative',\n",
        " 'ru': 'fusional',\n",
        " 'es': 'fusional',\n",
        " 'th': 'isolating',\n",
        " 'tr': 'agglutinative',\n",
        " 'el': 'fusional',\n",
        " 'fa': 'fusional',\n",
        " 'fi': 'agglutinative',\n",
        " 'he': 'introflexive',\n",
        " 'hi': 'fusional',\n",
        " 'hu': 'agglutinative',\n",
        " 'id': 'isolating',\n",
        " 'tl': 'isolating',\n",
        " 'vi': 'isolating',\n",
        " 'zh-tw': 'isolating',\n",
        " 'zh-cn': 'isolating'}"
      ]
    },
    {
      "cell_type": "markdown",
      "metadata": {
        "id": "LUBa52mpu59E"
      },
      "source": [
        "#### Code 16.2 : Use vec2lang database to classifier missing languages\n"
      ]
    },
    {
      "cell_type": "markdown",
      "metadata": {
        "id": "oz9vOqeDzasP"
      },
      "source": [
        "For the rest 20 languages that are unclassifiable due to lack of information on the WALS website, I use the vec2lang database to find their features vectors as well as the features vectors for 4 reference languages ( Chinese: isolating, Turkish: agglutinative, French: fusional and  Arabic:introflexive ) for each morphological type\n",
        "And then I use the k-means clustering algorithm to cluster these 24 vectors into 4 groups, language in the same group with the reference language will be categorized as the same morphological type"
      ]
    },
    {
      "cell_type": "code",
      "execution_count": null,
      "metadata": {
        "id": "q45wTXTeudbx"
      },
      "outputs": [],
      "source": [
        "!pip install lang2vec"
      ]
    },
    {
      "cell_type": "code",
      "execution_count": null,
      "metadata": {
        "id": "1_EeeoH7udbx"
      },
      "outputs": [],
      "source": [
        "import lang2vec.lang2vec as l2v\n",
        "features_knn = l2v.get_features(lang_modified, \"syntax_knn\", header=False)\n",
        "features_knn.keys()\n",
        "zh = features_knn['zh']\n",
        "features_knn['zh-cn'] = zh\n",
        "features_knn['zh-tw'] = zh\n",
        "del features_knn['zh']"
      ]
    },
    {
      "cell_type": "code",
      "execution_count": null,
      "metadata": {
        "colab": {
          "base_uri": "https://localhost:8080/"
        },
        "id": "gpCN7wl_udbx",
        "outputId": "8961bc48-0598-4c9c-b6e7-bbe522e866d2"
      },
      "outputs": [
        {
          "data": {
            "text/plain": [
              "{'bg': 'fusional',\n",
              " 'ca': 'fusional',\n",
              " 'cs': 'agglutinative',\n",
              " 'da': 'fusional',\n",
              " 'et': 'fusional',\n",
              " 'hr': 'fusional',\n",
              " 'it': 'fusional',\n",
              " 'lt': 'agglutinative',\n",
              " 'lv': 'agglutinative',\n",
              " 'ms': 'introflexive',\n",
              " 'nl': 'fusional',\n",
              " 'no': 'fusional',\n",
              " 'pl': 'fusional',\n",
              " 'pt': 'fusional',\n",
              " 'ro': 'fusional',\n",
              " 'sk': 'fusional',\n",
              " 'sl': 'fusional',\n",
              " 'sr': 'fusional',\n",
              " 'sv': 'fusional',\n",
              " 'uk': 'fusional'}"
            ]
          },
          "execution_count": 78,
          "metadata": {},
          "output_type": "execute_result"
        }
      ],
      "source": [
        "from sklearn.cluster import KMeans\n",
        "import numpy as np\n",
        "features_knn = {k:np.array(v) for k,v in features_knn.items()}\n",
        "kmeans = KMeans(n_clusters=4, random_state=0).fit(list(features_knn.values()))\n",
        "catagorized = {lang:label for lang,label in zip(list(features_knn.keys()),kmeans.labels_)}\n",
        "reference_language  = {'tr':\"agglutinative\",'zh-cn':\"isolating\",'fr':\"fusional\",'ar':\"introflexive\"}\n",
        "morpho_types = [\"introflexive\",\"agglutinative\",\"fusional\",\"isolating\"]\n",
        "lang_morpho_type_= {lang:morpho_types[catagorized[lang]] for lang in catagorized}\n",
        "missing__morpho_type = {l:m for l,m in lang_morpho_type_.items() if l in missing}\n",
        "missing__morpho_type"
      ]
    },
    {
      "cell_type": "code",
      "execution_count": null,
      "metadata": {
        "colab": {
          "base_uri": "https://localhost:8080/"
        },
        "id": "-RsfZUKa2fAn",
        "outputId": "15673698-dca8-4309-8105-a2032111417d"
      },
      "outputs": [
        {
          "data": {
            "text/plain": [
              "{'ar': 'introflexive',\n",
              " 'bg': 'fusional',\n",
              " 'ca': 'fusional',\n",
              " 'cs': 'agglutinative',\n",
              " 'da': 'fusional',\n",
              " 'de': 'fusional',\n",
              " 'el': 'fusional',\n",
              " 'en': 'fusional',\n",
              " 'es': 'fusional',\n",
              " 'et': 'fusional',\n",
              " 'fa': 'fusional',\n",
              " 'fi': 'agglutinative',\n",
              " 'fr': 'fusional',\n",
              " 'he': 'introflexive',\n",
              " 'hi': 'fusional',\n",
              " 'hr': 'fusional',\n",
              " 'hu': 'agglutinative',\n",
              " 'id': 'isolating',\n",
              " 'it': 'fusional',\n",
              " 'ja': 'agglutinative',\n",
              " 'ko': 'agglutinative',\n",
              " 'lt': 'agglutinative',\n",
              " 'lv': 'agglutinative',\n",
              " 'ms': 'introflexive',\n",
              " 'nl': 'fusional',\n",
              " 'no': 'fusional',\n",
              " 'pl': 'fusional',\n",
              " 'pt': 'fusional',\n",
              " 'ro': 'fusional',\n",
              " 'ru': 'fusional',\n",
              " 'sk': 'fusional',\n",
              " 'sl': 'fusional',\n",
              " 'sr': 'fusional',\n",
              " 'sv': 'fusional',\n",
              " 'th': 'isolating',\n",
              " 'tl': 'isolating',\n",
              " 'tr': 'agglutinative',\n",
              " 'uk': 'fusional',\n",
              " 'vi': 'isolating',\n",
              " 'zh-cn': 'isolating',\n",
              " 'zh-tw': 'isolating'}"
            ]
          },
          "execution_count": 82,
          "metadata": {},
          "output_type": "execute_result"
        }
      ],
      "source": [
        "#Combine 2 dictionaries together\n",
        "lang_morpho_type = {**missing__morpho_type,**exsting_morpho_type}\n",
        "lang_morpho_type"
      ]
    },
    {
      "cell_type": "markdown",
      "source": [
        "## Question 17\n",
        "What structure should you use to store this information? Why?"
      ],
      "metadata": {
        "id": "7pgGCwgxoelv"
      }
    },
    {
      "cell_type": "markdown",
      "source": [
        "I use a dictionary {language : morphological type} to store this information for fast indexing"
      ],
      "metadata": {
        "id": "FLyKbynFokDF"
      }
    },
    {
      "cell_type": "markdown",
      "metadata": {
        "id": "gRJb3h7m_b4R"
      },
      "source": [
        "##2.3 Training and evaluating language models "
      ]
    },
    {
      "cell_type": "markdown",
      "metadata": {
        "id": "7r-U7iMi6Z9b"
      },
      "source": [
        "##Code 18 : Install kenlm\n"
      ]
    },
    {
      "cell_type": "code",
      "execution_count": null,
      "metadata": {
        "id": "LnCgXtvG7jVG"
      },
      "outputs": [],
      "source": [
        "!git clone https://github.com/kpu/kenlm.git\n",
        "%cd kenlm\n",
        "!python setup.py develop\n",
        "!mkdir -p build\n",
        "%cd build\n",
        "!cmake ..\n",
        "!make -j 4"
      ]
    },
    {
      "cell_type": "markdown",
      "metadata": {
        "id": "skrKNiqBCa6-"
      },
      "source": [
        "## Question 19 \n",
        "Why do some shell commands in Figure 3 starts with a ! and others with a %?"
      ]
    },
    {
      "cell_type": "markdown",
      "metadata": {
        "id": "IvM5sNJ8Chg3"
      },
      "source": [
        "the prefix \"!\" starts a new shell while the prefix \"%\" dose not and it only applies to the current shell"
      ]
    },
    {
      "cell_type": "markdown",
      "metadata": {
        "id": "LuxofaGpCvd8"
      },
      "source": [
        "## Question 20 \n",
        "Why the python interface of kenlm allows you to compute the perplexity of a model but\n",
        "not to estimate its parameters?"
      ]
    },
    {
      "cell_type": "markdown",
      "metadata": {
        "id": "PT9LKlV1CzsK"
      },
      "source": [
        "In fact, the documentation for the Python interface is very lacking, the dir(kenlm) reveals that there is no training method built in the Python interface,\n",
        "so my guess is training the model requires some dependencies that Python can not provide"
      ]
    },
    {
      "cell_type": "markdown",
      "metadata": {
        "id": "VtAJ3cGICofA"
      },
      "source": [
        "## Code 21,22 : Train a 5gram language model for each language\n"
      ]
    },
    {
      "cell_type": "code",
      "execution_count": null,
      "metadata": {
        "id": "nNY-p9gR8cy3"
      },
      "outputs": [],
      "source": [
        "ngram  =  5\n",
        "for lang in lang_list:\n",
        "  input_file = lang+'_train'\n",
        "  output_file = lang+'_train'\n",
        "  !/content/kenlm/build/bin/lmplz -o {ngram} </content/{input_file}>  /content/{output_file}_{ngram}gram.arpa"
      ]
    },
    {
      "cell_type": "code",
      "execution_count": null,
      "metadata": {
        "colab": {
          "base_uri": "https://localhost:8080/"
        },
        "id": "FmKy4C3b6otv",
        "outputId": "025851c5-5258-4fc5-9db6-902b8f636e6e"
      },
      "outputs": [
        {
          "output_type": "stream",
          "name": "stdout",
          "text": [
            "221M\tar_train_5gram.arpa\n",
            "273M\tar_train_bpe_5gram.arpa\n",
            "133M\tbg_train_5gram.arpa\n",
            "165M\tbg_train_bpe_5gram.arpa\n",
            "109M\tca_train_5gram.arpa\n",
            "143M\tca_train_bpe_5gram.arpa\n",
            "115M\tcs_train_5gram.arpa\n",
            "155M\tcs_train_bpe_5gram.arpa\n",
            "113M\tda_train_5gram.arpa\n",
            "152M\tda_train_bpe_5gram.arpa\n",
            "111M\tde_train_5gram.arpa\n",
            "146M\tde_train_bpe_5gram.arpa\n",
            "186M\tel_train_5gram.arpa\n",
            "228M\tel_train_bpe_5gram.arpa\n",
            "121M\ten_train_5gram.arpa\n",
            "160M\ten_train_bpe_5gram.arpa\n",
            "136M\tes_train_5gram.arpa\n",
            "180M\tes_train_bpe_5gram.arpa\n",
            "104M\tet_train_5gram.arpa\n",
            "140M\tet_train_bpe_5gram.arpa\n",
            "150M\tfa_train_5gram.arpa\n",
            "184M\tfa_train_bpe_5gram.arpa\n",
            "98M\tfi_train_5gram.arpa\n",
            "133M\tfi_train_bpe_5gram.arpa\n",
            "125M\tfr_train_5gram.arpa\n",
            "164M\tfr_train_bpe_5gram.arpa\n",
            "151M\the_train_5gram.arpa\n",
            "188M\the_train_bpe_5gram.arpa\n",
            "182M\thi_train_5gram.arpa\n",
            "219M\thi_train_bpe_5gram.arpa\n",
            "86M\thr_train_5gram.arpa\n",
            "115M\thr_train_bpe_5gram.arpa\n",
            "108M\thu_train_5gram.arpa\n",
            "143M\thu_train_bpe_5gram.arpa\n",
            "118M\tid_train_5gram.arpa\n",
            "153M\tid_train_bpe_5gram.arpa\n",
            "144M\tit_train_5gram.arpa\n",
            "187M\tit_train_bpe_5gram.arpa\n",
            "141M\tja_train_5gram.arpa\n",
            "180M\tja_train_bpe_5gram.arpa\n",
            "136M\tko_train_5gram.arpa\n",
            "179M\tko_train_bpe_5gram.arpa\n",
            "98M\tlt_train_5gram.arpa\n",
            "130M\tlt_train_bpe_5gram.arpa\n",
            "111M\tlv_train_5gram.arpa\n",
            "147M\tlv_train_bpe_5gram.arpa\n",
            "93M\tms_train_5gram.arpa\n",
            "121M\tms_train_bpe_5gram.arpa\n",
            "101M\tnl_train_5gram.arpa\n",
            "134M\tnl_train_bpe_5gram.arpa\n",
            "98M\tno_train_5gram.arpa\n",
            "132M\tno_train_bpe_5gram.arpa\n",
            "110M\tpl_train_5gram.arpa\n",
            "147M\tpl_train_bpe_5gram.arpa\n",
            "129M\tpt_train_5gram.arpa\n",
            "171M\tpt_train_bpe_5gram.arpa\n",
            "121M\tro_train_5gram.arpa\n",
            "158M\tro_train_bpe_5gram.arpa\n",
            "159M\tru_train_5gram.arpa\n",
            "196M\tru_train_bpe_5gram.arpa\n",
            "87M\tsk_train_5gram.arpa\n",
            "116M\tsk_train_bpe_5gram.arpa\n",
            "113M\tsl_train_5gram.arpa\n",
            "151M\tsl_train_bpe_5gram.arpa\n",
            "90M\tsr_train_5gram.arpa\n",
            "113M\tsr_train_bpe_5gram.arpa\n",
            "102M\tsv_train_5gram.arpa\n",
            "137M\tsv_train_bpe_5gram.arpa\n",
            "827M\tth_train_5gram.arpa\n",
            "928M\tth_train_bpe_5gram.arpa\n",
            "95M\ttl_train_5gram.arpa\n",
            "125M\ttl_train_bpe_5gram.arpa\n",
            "95M\ttr_train_5gram.arpa\n",
            "124M\ttr_train_bpe_5gram.arpa\n",
            "145M\tuk_train_5gram.arpa\n",
            "181M\tuk_train_bpe_5gram.arpa\n",
            "136M\tvi_train_5gram.arpa\n",
            "176M\tvi_train_bpe_5gram.arpa\n",
            "152M\tzh-cn_train_5gram.arpa\n",
            "196M\tzh-cn_train_bpe_5gram.arpa\n",
            "147M\tzh-tw_train_5gram.arpa\n",
            "188M\tzh-tw_train_bpe_5gram.arpa\n"
          ]
        }
      ],
      "source": [
        "# This shows all 5gram files and their size\n",
        "!find *_5gram.arpa| xargs du -sh"
      ]
    },
    {
      "cell_type": "code",
      "execution_count": null,
      "metadata": {
        "colab": {
          "base_uri": "https://localhost:8080/"
        },
        "id": "g15v-PR6uQsU",
        "outputId": "9e2cb4ff-6d42-42ea-9cd6-53c2babd969a"
      },
      "outputs": [
        {
          "name": "stdout",
          "output_type": "stream",
          "text": [
            " -- Now Calculating perplexity for en --- \n",
            "en : 1473.731709048924\n",
            " -- Now Calculating perplexity for ar --- \n",
            "ar : 4753.527661772921\n",
            " -- Now Calculating perplexity for zh-cn --- \n",
            "zh-cn : 1021.393031632241\n",
            " -- Now Calculating perplexity for zh-tw --- \n",
            "zh-tw : 1291.8976193959807\n",
            " -- Now Calculating perplexity for nl --- \n",
            "nl : 1428.1917460793647\n",
            " -- Now Calculating perplexity for fr --- \n",
            "fr : 906.8607178417897\n",
            " -- Now Calculating perplexity for de --- \n",
            "de : 2904.670403535546\n",
            " -- Now Calculating perplexity for it --- \n",
            "it : 1330.7253670684954\n",
            " -- Now Calculating perplexity for ja --- \n",
            "ja : 522.6769689318078\n",
            " -- Now Calculating perplexity for ko --- \n",
            "ko : 13967.569542174766\n",
            " -- Now Calculating perplexity for pl --- \n",
            "pl : 3881.421899564924\n",
            " -- Now Calculating perplexity for pt --- \n",
            "pt : 908.4156104870978\n",
            " -- Now Calculating perplexity for ru --- \n",
            "ru : 3108.4576704059127\n",
            " -- Now Calculating perplexity for es --- \n",
            "es : 831.4735085902306\n",
            " -- Now Calculating perplexity for th --- \n",
            "th : 270.1973515540943\n",
            " -- Now Calculating perplexity for tr --- \n",
            "tr : 4344.5717450803295\n",
            " -- Now Calculating perplexity for bg --- \n",
            "bg : 1094.1625173141008\n",
            " -- Now Calculating perplexity for ca --- \n",
            "ca : 519.1268729099892\n",
            " -- Now Calculating perplexity for cs --- \n",
            "cs : 5040.8198944823\n",
            " -- Now Calculating perplexity for da --- \n",
            "da : 1848.790120071247\n",
            " -- Now Calculating perplexity for el --- \n",
            "el : 1557.160933261962\n",
            " -- Now Calculating perplexity for et --- \n",
            "et : 5671.808922459103\n",
            " -- Now Calculating perplexity for fa --- \n",
            "fa : 1366.9648336184573\n",
            " -- Now Calculating perplexity for fi --- \n",
            "fi : 8433.331937150115\n",
            " -- Now Calculating perplexity for he --- \n",
            "he : 5892.574899778722\n",
            " -- Now Calculating perplexity for hi --- \n",
            "hi : 991.5410546919272\n",
            " -- Now Calculating perplexity for hr --- \n",
            "hr : 849.3973163493228\n",
            " -- Now Calculating perplexity for hu --- \n",
            "hu : 2802.6952463336474\n",
            " -- Now Calculating perplexity for id --- \n",
            "id : 1321.4660766962568\n",
            " -- Now Calculating perplexity for lt --- \n",
            "lt : 3473.53656829247\n",
            " -- Now Calculating perplexity for lv --- \n",
            "lv : 3282.4142708043087\n",
            " -- Now Calculating perplexity for ms --- \n",
            "ms : 718.3587255370535\n",
            " -- Now Calculating perplexity for no --- \n",
            "no : 1812.1897604104088\n",
            " -- Now Calculating perplexity for ro --- \n",
            "ro : 655.4765068467016\n",
            " -- Now Calculating perplexity for sk --- \n",
            "sk : 2548.3877043102807\n",
            " -- Now Calculating perplexity for sl --- \n",
            "sl : 2414.0084046968814\n",
            " -- Now Calculating perplexity for sr --- \n",
            "sr : 1060.6764226974326\n",
            " -- Now Calculating perplexity for sv --- \n",
            "sv : 2088.117761132967\n",
            " -- Now Calculating perplexity for tl --- \n",
            "tl : 641.669476347707\n",
            " -- Now Calculating perplexity for uk --- \n",
            "uk : 2905.686876463714\n",
            " -- Now Calculating perplexity for vi --- \n",
            "vi : 340.32675093404436\n"
          ]
        }
      ],
      "source": [
        "#Calculate the average perplexity on the test set \n",
        "from kenlm import kenlm\n",
        "ppl_test = {lang:0 for lang in lang_list}\n",
        "for lang in lang_list:\n",
        "  m = kenlm.Model(f\"/content/{lang}_train_5gram.arpa\")\n",
        "  with open ('/content/'+lang+'_test','r') as file:\n",
        "    print(f\" -- Now Calculating perplexity for {lang} --- \")\n",
        "    text = str(list(file.readlines()))\n",
        "    ppl_ = m.perplexity(text)\n",
        "    ppl_test[lang] = ppl_\n",
        "    print(f\"{lang} : {ppl_test[lang]}\")\n",
        "    \n",
        "\n"
      ]
    },
    {
      "cell_type": "markdown",
      "metadata": {
        "id": "BPnZIrdz_ksS"
      },
      "source": [
        "#3 Dersert Desert"
      ]
    },
    {
      "cell_type": "markdown",
      "metadata": {
        "id": "IP2nJdfIdBcw"
      },
      "source": [
        "## Code 23 : Plot\n"
      ]
    },
    {
      "cell_type": "code",
      "execution_count": null,
      "metadata": {
        "colab": {
          "base_uri": "https://localhost:8080/",
          "height": 606
        },
        "id": "eRJY4NkKU5Tm",
        "outputId": "8a9d6a50-8666-4438-a75c-50ffaf0161d7"
      },
      "outputs": [
        {
          "data": {
            "image/png": "[encoded data removed]",
            "text/plain": [
              "<Figure size 720x720 with 1 Axes>"
            ]
          },
          "metadata": {},
          "output_type": "display_data"
        }
      ],
      "source": [
        "import matplotlib.pyplot as plt\n",
        "from matplotlib.colors import ListedColormap\n",
        "morphos_mark = [\"isolating\",\"fusional\",\"introflexive\",\"agglutinative\"]\n",
        "ttr  = []\n",
        "ppl = []\n",
        "color_values = []\n",
        "color_map = ListedColormap(['b','orange','r','g'])\n",
        "plt.figure(figsize=(10,10))\n",
        "for lang in lang_list:\n",
        "  ttr.append(ttr_dict[lang])\n",
        "  ppl.append(ppl_test[lang])\n",
        "  color_values.append(morphos_mark.index(lang_morpho_type[lang]))\n",
        "\n",
        "#scatter  = plt.scatter(ttr,ppl,c = colors)\n",
        "scatter  = plt.scatter(ttr,ppl,c = color_values,cmap = color_map)\n",
        "plt.legend(handles=scatter.legend_elements()[0], labels=morphos_mark)\n",
        "plt.xlabel('TTR')\n",
        "plt.ylabel('PPL')\n",
        "for i, txt in enumerate(lang_list):\n",
        "    plt.annotate(txt, (ttr[i], ppl[i]))"
      ]
    },
    {
      "cell_type": "markdown",
      "metadata": {
        "id": "HL3vkqgzdLxN"
      },
      "source": [
        "## Code 24 : Sentencepiece"
      ]
    },
    {
      "cell_type": "code",
      "execution_count": null,
      "metadata": {
        "id": "Lc_x__HE5jqE"
      },
      "outputs": [],
      "source": [
        "% pip install sentencepiece\n",
        "!sudo apt-get install cmake build-essential pkg-config libgoogle-perftools-dev"
      ]
    },
    {
      "cell_type": "code",
      "execution_count": null,
      "metadata": {
        "id": "tXxXrW4LkVv9"
      },
      "outputs": [],
      "source": [
        "! git clone https://github.com/google/sentencepiece.git \n",
        "% cd sentencepiece\n",
        "% mkdir build\n",
        "% cd build\n",
        "! cmake ..\n",
        "! make -j $(nproc)\n",
        "! sudo make install\n",
        "! sudo ldconfig -v"
      ]
    },
    {
      "cell_type": "markdown",
      "source": [
        "### Code 24.1 : Train the BPE tokenizer"
      ],
      "metadata": {
        "id": "q_X7fexEpW61"
      }
    },
    {
      "cell_type": "code",
      "source": [
        "%cd /content/\n",
        "for lang in lang_list:\n",
        "  ! spm_train --input=/content/{lang}_train --model_prefix={lang}_bpe --vocab_size=32000 --character_coverage=0.9995 --model_type='bpe'\n",
        "!cp /content/*.model  /content/drive/MyDrive/Dataset/\n",
        "!cp /content/*.vocab  /content/drive/MyDrive/Dataset/"
      ],
      "metadata": {
        "id": "mvSZjy2II9-f"
      },
      "execution_count": null,
      "outputs": []
    },
    {
      "cell_type": "markdown",
      "source": [
        "### Code 24.2 : Build dataset using trained BPE tokenizer"
      ],
      "metadata": {
        "id": "kD4iCkQhpjYb"
      }
    },
    {
      "cell_type": "code",
      "execution_count": null,
      "metadata": {
        "colab": {
          "background_save": true,
          "base_uri": "https://localhost:8080/"
        },
        "id": "UFByXoz9qiqM",
        "outputId": "579a5716-af6c-4c0d-a0b6-c55fdb6c5016"
      },
      "outputs": [
        {
          "name": "stdout",
          "output_type": "stream",
          "text": [
            " --- Now processing en --- \n",
            "40000/40000 sentences added --- Now processing ar --- \n",
            "40000/40000 sentences added --- Now processing zh-cn --- \n",
            "40000/40000 sentences added --- Now processing zh-tw --- \n",
            "40000/40000 sentences added --- Now processing nl --- \n",
            "40000/40000 sentences added --- Now processing fr --- \n",
            "40010/40000 sentences added --- Now processing de --- \n",
            "40000/40000 sentences added --- Now processing it --- \n",
            "40000/40000 sentences added --- Now processing ja --- \n",
            "40000/40000 sentences added --- Now processing ko --- \n",
            "40000/40000 sentences added --- Now processing pl --- \n",
            "40000/40000 sentences added --- Now processing pt --- \n",
            "40000/40000 sentences added --- Now processing ru --- \n",
            "40000/40000 sentences added --- Now processing es --- \n",
            "40000/40000 sentences added --- Now processing th --- \n",
            "40000/40000 sentences added --- Now processing tr --- \n",
            "40000/40000 sentences added --- Now processing bg --- \n",
            "40000/40000 sentences added --- Now processing ca --- \n",
            "40000/40000 sentences added --- Now processing cs --- \n",
            "40000/40000 sentences added --- Now processing da --- \n",
            "40000/40000 sentences added --- Now processing el --- \n",
            "40000/40000 sentences added --- Now processing et --- \n",
            "40000/40000 sentences added --- Now processing fa --- \n",
            "40000/40000 sentences added --- Now processing fi --- \n",
            "40000/40000 sentences added --- Now processing he --- \n",
            "40000/40000 sentences added --- Now processing hi --- \n",
            "40000/40000 sentences added --- Now processing hr --- \n",
            "40000/40000 sentences added --- Now processing hu --- \n",
            "40000/40000 sentences added --- Now processing id --- \n",
            "40000/40000 sentences added --- Now processing lt --- \n",
            "40000/40000 sentences added --- Now processing lv --- \n",
            "40000/40000 sentences added --- Now processing ms --- \n",
            "40000/40000 sentences added --- Now processing no --- \n",
            "40000/40000 sentences added --- Now processing ro --- \n",
            "40000/40000 sentences added --- Now processing sk --- \n",
            "40000/40000 sentences added --- Now processing sl --- \n",
            "40000/40000 sentences added --- Now processing sr --- \n",
            "40000/40000 sentences added --- Now processing sv --- \n",
            "40000/40000 sentences added --- Now processing tl --- \n",
            "40000/40000 sentences added --- Now processing uk --- \n",
            "40000/40000 sentences added --- Now processing vi --- \n",
            "40000/40000 sentences added"
          ]
        }
      ],
      "source": [
        "import sentencepiece as spm\n",
        "%cd /content/\n",
        "for lang in lang_list:\n",
        "  input_file = '/content/'+lang+'_train'\n",
        "  output_file = '/content/'+lang+'_train_bpe'\n",
        "  model = lang+'_bpe.model'\n",
        "  lm = spm.SentencePieceProcessor(model_file = model)\n",
        "  print(f\" --- Now processing {lang} --- \")\n",
        "  with open(input_file,'r',encoding='utf-8') as file1 , open(output_file,'w',encoding = 'utf-8') as file2:\n",
        "    i = 0\n",
        "    for line in file1.readlines():\n",
        "      file2.write(\" \".join(lm.encode(line,out_type = str))+'\\n')\n",
        "      i += 1\n",
        "      sys.stdout.write('\\r'+str(i) + '/' + str(40000) + ' sentences added')\n",
        "      sys.stdout.flush()\n",
        "  !cp {output_file} /content/drive/MyDrive/Dataset/    "
      ]
    },
    {
      "cell_type": "code",
      "execution_count": null,
      "metadata": {
        "id": "XstPj5wLvjWY",
        "colab": {
          "base_uri": "https://localhost:8080/"
        },
        "outputId": "12c14977-5366-467a-ddb6-c90995edbbee"
      },
      "outputs": [
        {
          "output_type": "stream",
          "name": "stdout",
          "text": [
            "/content\n",
            " --- Now processing en --- \n",
            "\n",
            "3000/3000 sentences added --- Now processing ar --- \n",
            "\n",
            "3000/3000 sentences added --- Now processing zh-cn --- \n",
            "\n",
            "3000/3000 sentences added --- Now processing zh-tw --- \n",
            "\n",
            "3000/3000 sentences added --- Now processing nl --- \n",
            "\n",
            "3000/3000 sentences added --- Now processing fr --- \n",
            "\n",
            "3000/3000 sentences added --- Now processing de --- \n",
            "\n",
            "3000/3000 sentences added --- Now processing it --- \n",
            "\n",
            "3000/3000 sentences added --- Now processing ja --- \n",
            "\n",
            "3000/3000 sentences added --- Now processing ko --- \n",
            "\n",
            "3000/3000 sentences added --- Now processing pl --- \n",
            "\n",
            "3000/3000 sentences added --- Now processing pt --- \n",
            "\n",
            "3000/3000 sentences added --- Now processing ru --- \n",
            "\n",
            "3000/3000 sentences added --- Now processing es --- \n",
            "\n",
            "3000/3000 sentences added --- Now processing th --- \n",
            "\n",
            "3000/3000 sentences added --- Now processing tr --- \n",
            "\n",
            "3000/3000 sentences added --- Now processing bg --- \n",
            "\n",
            "3000/3000 sentences added --- Now processing ca --- \n",
            "\n",
            "3000/3000 sentences added --- Now processing cs --- \n",
            "\n",
            "3000/3000 sentences added --- Now processing da --- \n",
            "\n",
            "3000/3000 sentences added --- Now processing el --- \n",
            "\n",
            "3000/3000 sentences added --- Now processing et --- \n",
            "\n",
            "3000/3000 sentences added --- Now processing fa --- \n",
            "\n",
            "3000/3000 sentences added --- Now processing fi --- \n",
            "\n",
            "3000/3000 sentences added --- Now processing he --- \n",
            "\n",
            "3000/3000 sentences added --- Now processing hi --- \n",
            "\n",
            "3000/3000 sentences added --- Now processing hr --- \n",
            "\n",
            "3000/3000 sentences added --- Now processing hu --- \n",
            "\n",
            "3000/3000 sentences added --- Now processing id --- \n",
            "\n",
            "3000/3000 sentences added --- Now processing lt --- \n",
            "\n",
            "3000/3000 sentences added --- Now processing lv --- \n",
            "\n",
            "3000/3000 sentences added --- Now processing ms --- \n",
            "\n",
            "3000/3000 sentences added --- Now processing no --- \n",
            "\n",
            "3000/3000 sentences added --- Now processing ro --- \n",
            "\n",
            "3000/3000 sentences added --- Now processing sk --- \n",
            "\n",
            "3000/3000 sentences added --- Now processing sl --- \n",
            "\n",
            "3000/3000 sentences added --- Now processing sr --- \n",
            "\n",
            "3000/3000 sentences added --- Now processing sv --- \n",
            "\n",
            "3000/3000 sentences added --- Now processing tl --- \n",
            "\n",
            "3000/3000 sentences added --- Now processing uk --- \n",
            "\n",
            "3000/3000 sentences added --- Now processing vi --- \n",
            "\n",
            "3000/3000 sentences added"
          ]
        }
      ],
      "source": [
        "import sentencepiece as spm\n",
        "%cd /content/\n",
        "for lang in lang_list:\n",
        "  input_file = '/content/'+lang+'_test'\n",
        "  output_file = '/content/'+lang+'_test_bpe'\n",
        "  model = lang+'_bpe.model'\n",
        "  lm = spm.SentencePieceProcessor(model_file = model)\n",
        "  print(f\" --- Now processing {lang} --- \\n\")\n",
        "  with open(input_file,'r',encoding='utf-8') as file1 , open(output_file,'w',encoding = 'utf-8') as file2:\n",
        "    i = 0\n",
        "    for line in file1.readlines():\n",
        "      file2.write(\" \".join(lm.encode(line,out_type = str))+'\\n')\n",
        "      i += 1\n",
        "      sys.stdout.write('\\r'+str(i) + '/' + str(3000) + ' sentences added')\n",
        "      sys.stdout.flush()\n",
        "  !cp {output_file} /content/drive/MyDrive/Dataset/  "
      ]
    },
    {
      "cell_type": "markdown",
      "source": [
        "### Code 24.3 : Train LM using new BPE dataset"
      ],
      "metadata": {
        "id": "dy6ZFDwHpsBr"
      }
    },
    {
      "cell_type": "code",
      "source": [
        "from kenlm import kenlm\n",
        "ngram  =  3\n",
        "for lang in lang_list:\n",
        "  input_file = lang+'_train_bpe'\n",
        "  output_file = lang+'_train_bpe'\n",
        "  !/content/kenlm/build/bin/lmplz -o {ngram} </content/{input_file}>  /content/{output_file}_{ngram}gram.arpa"
      ],
      "metadata": {
        "id": "IrCH9t9za96B"
      },
      "execution_count": null,
      "outputs": []
    },
    {
      "cell_type": "markdown",
      "source": [
        "### Code 24.4 : Calculate new PPL\n"
      ],
      "metadata": {
        "id": "UR-rdFBxp-ar"
      }
    },
    {
      "cell_type": "code",
      "source": [
        "from kenlm import kenlm\n",
        "ppl_test_bpe = {lang:0 for lang in lang_list}\n",
        "for lang in lang_list:\n",
        "  m = kenlm.Model(f\"/content/{lang}_train_bpe_5gram.arpa\")\n",
        "  with open ('/content/'+lang+'_test_bpe','r') as file:\n",
        "    print(f\" -- Now Calculating perplexity for {lang} --- \")\n",
        "    text = str(list(file.readlines()))\n",
        "    ppl_ = m.perplexity(text)\n",
        "    ppl_test_bpe[lang] = ppl_\n",
        "    print(f\"{lang} : {ppl_test_bpe[lang]}\")"
      ],
      "metadata": {
        "colab": {
          "base_uri": "https://localhost:8080/"
        },
        "id": "GGzzkv6sZ71X",
        "outputId": "2e7fd05c-35b8-4cb8-a094-791f25370766"
      },
      "execution_count": null,
      "outputs": [
        {
          "output_type": "stream",
          "name": "stdout",
          "text": [
            " -- Now Calculating perplexity for en --- \n",
            "en : 1035.5534193178894\n",
            " -- Now Calculating perplexity for ar --- \n",
            "ar : 1481.7814707902187\n",
            " -- Now Calculating perplexity for zh-cn --- \n",
            "zh-cn : 823.1529634338241\n",
            " -- Now Calculating perplexity for zh-tw --- \n",
            "zh-tw : 937.3196271286985\n",
            " -- Now Calculating perplexity for nl --- \n",
            "nl : 960.815231310801\n",
            " -- Now Calculating perplexity for fr --- \n",
            "fr : 437.3366919608135\n",
            " -- Now Calculating perplexity for de --- \n",
            "de : 1483.4909439584228\n",
            " -- Now Calculating perplexity for it --- \n",
            "it : 721.1202236282238\n",
            " -- Now Calculating perplexity for ja --- \n",
            "ja : 449.39738779024526\n",
            " -- Now Calculating perplexity for ko --- \n",
            "ko : 2423.890696081002\n",
            " -- Now Calculating perplexity for pl --- \n",
            "pl : 1394.5037223711406\n",
            " -- Now Calculating perplexity for pt --- \n",
            "pt : 628.4916088035345\n",
            " -- Now Calculating perplexity for ru --- \n",
            "ru : 1411.8693812653923\n",
            " -- Now Calculating perplexity for es --- \n",
            "es : 574.2721276362647\n",
            " -- Now Calculating perplexity for th --- \n",
            "th : 228.99940655005125\n",
            " -- Now Calculating perplexity for tr --- \n",
            "tr : 1613.383796815307\n",
            " -- Now Calculating perplexity for bg --- \n",
            "bg : 678.8074377382472\n",
            " -- Now Calculating perplexity for ca --- \n",
            "ca : 304.59521707571656\n",
            " -- Now Calculating perplexity for cs --- \n",
            "cs : 1753.9447451513038\n",
            " -- Now Calculating perplexity for da --- \n",
            "da : 1083.1140102259446\n",
            " -- Now Calculating perplexity for el --- \n",
            "el : 681.7779887697594\n",
            " -- Now Calculating perplexity for et --- \n",
            "et : 1937.9993911732195\n",
            " -- Now Calculating perplexity for fa --- \n",
            "fa : 567.6840652112816\n",
            " -- Now Calculating perplexity for fi --- \n",
            "fi : 2364.452604507898\n",
            " -- Now Calculating perplexity for he --- \n",
            "he : 2159.331293395086\n",
            " -- Now Calculating perplexity for hi --- \n",
            "hi : 804.7699516516154\n",
            " -- Now Calculating perplexity for hr --- \n",
            "hr : 628.456001892772\n",
            " -- Now Calculating perplexity for hu --- \n",
            "hu : 1153.5168116703317\n",
            " -- Now Calculating perplexity for id --- \n",
            "id : 954.3980419840083\n",
            " -- Now Calculating perplexity for lt --- \n",
            "lt : 1407.7283055658281\n",
            " -- Now Calculating perplexity for lv --- \n",
            "lv : 1326.960145418629\n",
            " -- Now Calculating perplexity for ms --- \n",
            "ms : 576.0525554634387\n",
            " -- Now Calculating perplexity for no --- \n",
            "no : 1168.252689303915\n",
            " -- Now Calculating perplexity for ro --- \n",
            "ro : 437.89818825110035\n",
            " -- Now Calculating perplexity for sk --- \n",
            "sk : 1197.1136148977557\n",
            " -- Now Calculating perplexity for sl --- \n",
            "sl : 1094.2496432384703\n",
            " -- Now Calculating perplexity for sr --- \n",
            "sr : 695.8701224228427\n",
            " -- Now Calculating perplexity for sv --- \n",
            "sv : 1112.1600868470962\n",
            " -- Now Calculating perplexity for tl --- \n",
            "tl : 475.4256838363849\n",
            " -- Now Calculating perplexity for uk --- \n",
            "uk : 1125.9089325025204\n",
            " -- Now Calculating perplexity for vi --- \n",
            "vi : 332.62051153738327\n"
          ]
        }
      ]
    },
    {
      "cell_type": "markdown",
      "source": [
        "### Code 24.5 Plot a new figure"
      ],
      "metadata": {
        "id": "XYOUPMqKuzgj"
      }
    },
    {
      "cell_type": "code",
      "source": [
        "import matplotlib.pyplot as plt\n",
        "from matplotlib.colors import ListedColormap\n",
        "morphos_mark = [\"isolating\",\"fusional\",\"introflexive\",\"agglutinative\"]\n",
        "ttr  = []\n",
        "ppl = []\n",
        "color_values = []\n",
        "color_map = ListedColormap(['b','orange','r','g'])\n",
        "plt.figure(figsize=(10,10))\n",
        "for lang in lang_list:\n",
        "  ttr.append(ttr_dict[lang])\n",
        "  ppl.append(ppl_test_bpe[lang])\n",
        "  color_values.append(morphos_mark.index(lang_morpho_type[lang]))\n",
        "\n",
        "scatter  = plt.scatter(ttr,ppl,c = color_values,cmap = color_map)\n",
        "plt.legend(handles=scatter.legend_elements()[0], labels=morphos_mark)\n",
        "plt.xlabel('Old TTR')\n",
        "plt.ylabel('New PPL')\n",
        "for i, txt in enumerate(lang_list):\n",
        "    plt.annotate(txt, (ttr[i], ppl[i]))"
      ],
      "metadata": {
        "colab": {
          "base_uri": "https://localhost:8080/",
          "height": 606
        },
        "id": "aCHLIoQBuoZf",
        "outputId": "3c9e7fb9-3274-4627-c0d6-a552a6b122fd"
      },
      "execution_count": null,
      "outputs": [
        {
          "output_type": "display_data",
          "data": {
            "image/png": "[encoded data removed]",
            "text/plain": [
              "<Figure size 720x720 with 1 Axes>"
            ]
          },
          "metadata": {
            "needs_background": "light"
          }
        }
      ]
    },
    {
      "cell_type": "markdown",
      "source": [
        "# Appendix"
      ],
      "metadata": {
        "id": "j9BhYb-PfmgE"
      }
    },
    {
      "cell_type": "markdown",
      "source": [
        "## Code : WALS_code\n",
        "A dictionary to convert ISO639-1 code to WALS code"
      ],
      "metadata": {
        "id": "Me5RqqFKfqWj"
      }
    },
    {
      "cell_type": "code",
      "execution_count": null,
      "metadata": {
        "id": "9FtXZC_sUZfU"
      },
      "outputs": [],
      "source": [
        "wals_code = {'en': 'eng',\n",
        " 'ar': 'aeg',\n",
        " 'zh': 'mnd',\n",
        " 'nl': 'dli',\n",
        " 'fr': 'fre',\n",
        " 'de': 'ger',\n",
        " 'it': 'ita',\n",
        " 'ja': 'jpn',\n",
        " 'ko': 'kor',\n",
        " 'pl': 'pol',\n",
        " 'pt': 'por',\n",
        " 'ru': 'rus',\n",
        " 'es': 'spa',\n",
        " 'th': 'tha',\n",
        " 'tr': 'tur',\n",
        " 'bg': 'bul',\n",
        " 'ca': 'ctl',\n",
        " 'cs': 'cze',\n",
        " 'da': 'dsh',\n",
        " 'el': 'grk',\n",
        " 'et': 'est',\n",
        " 'fa': 'prs',\n",
        " 'fi': 'fin',\n",
        " 'he': 'heb',\n",
        " 'hi': 'hin',\n",
        " 'hu': 'hun',\n",
        " 'id': 'ind',\n",
        " 'lt': 'lit',\n",
        " 'lv': 'lat',\n",
        " 'ms': 'mly',\n",
        " 'no': 'nor',\n",
        " 'ro': 'rom',\n",
        " 'sk': 'svk',\n",
        " 'sl': 'slo',\n",
        " 'sv': 'swe',\n",
        " 'tl': 'tag',\n",
        " 'uk': 'ukr',\n",
        " 'vi': 'vie'}"
      ]
    },
    {
      "cell_type": "markdown",
      "source": [
        "## Code : use to convert ISO639-1 language code to WALS code\n",
        "\n",
        "i ran this code on my local computer,so it's not tested on Colab"
      ],
      "metadata": {
        "id": "EAmtHTSHrRlR"
      }
    },
    {
      "cell_type": "code",
      "source": [
        "%cd /content/\n",
        "!wget https://zenodo.org/record/3731125/files/cldf-datasets/wals-v2020.zip?download=1\n",
        "!unzip \"/content/wals-v2020.zip\" -d \"/content/wals/\n",
        "!cp /content/wals/cldf-datasets-wals-014143f/cldf/language.csv /content/\n",
        "!cp /content/wals/cldf-datasets-wals-014143f/raw/walslanguage.csv /content/\n",
        "\n",
        "\n",
        "lang  = pd.read_csv(\"language.csv\")\n",
        "iso_lang = pd.read_csv(\"walslanguage.csv\")\n",
        "\n",
        "lang_wals = lang['id'].to_list()\n",
        "lang_name = lang['name'].to_list()\n",
        "\n",
        "lang_iso = iso_lang['iso_codes'].to_list()\n",
        "langname_iso = iso_lang['ascii_name'].to_list()\n",
        "\n",
        "\n",
        "lang_wals_dict = {l.lower():w for l,w in zip(lang_name,lang_wals)}\n",
        "lang_iso_dict = {l:i for l,i in zip(langname_iso,lang_iso)}\n",
        "\n",
        "iso2wals = {}\n",
        "for lang in lang_wals_dict.keys():\n",
        "    try:\n",
        "        iso2wals[lang_iso_dict[lang]] = lang_wals_dict[lang]\n",
        "    except:"
      ],
      "metadata": {
        "id": "DwFKL6jDrSB5"
      },
      "execution_count": null,
      "outputs": []
    },
    {
      "cell_type": "code",
      "source": [
        "wals_codes = {}\n",
        "nto_found = []\n",
        "for lang  in lang_modified:\n",
        "    if ISO_639_1_TO_3[lang] in iso2wals:\n",
        "        wals_codes[lang] = iso2wals[ISO_639_1_TO_3[lang]]\n",
        "    else:\n",
        "        not_found.append(lang)"
      ],
      "metadata": {
        "id": "WxX3VKdSs13F"
      },
      "execution_count": null,
      "outputs": []
    },
    {
      "cell_type": "code",
      "source": [
        "lang_modified  =  lang_list.copy()\n",
        "for i in range(len(lang_modified)):\n",
        "    if lang_modified[i]  == 'zh-tw':\n",
        "        lang_modified[i] = 'zh'\n",
        "    if lang_modified[i]  == 'zh-cn':\n",
        "        lang_modified[i] = 'zh'"
      ],
      "metadata": {
        "id": "ycms_KHbs5fP"
      },
      "execution_count": null,
      "outputs": []
    },
    {
      "cell_type": "code",
      "source": [
        "lang_list = ['en', 'ar', 'zh-cn', 'zh-tw', 'nl', 'fr', 'de', 'it', 'ja', 'ko', 'pl', 'pt', 'ru', 'es', 'th', 'tr', 'bg', 'ca', 'cs', 'da', 'el', 'et', 'fa', 'fi', 'he', 'hi', 'hr', 'hu', 'id', 'lt', 'lv', 'ms', 'no', 'ro', 'sk', 'sl', 'sr', 'sv', 'tl', 'uk', 'vi']\n",
        "ISO_639_1_TO_3 = {\n",
        "    'aa': 'aar',\n",
        "    'ab': 'abk',\n",
        "    'ae': 'ave',\n",
        "    'af': 'afr',\n",
        "    'ak': 'aka',\n",
        "    'am': 'amh',\n",
        "    'an': 'arg',\n",
        "    'ar': 'arb',\n",
        "    'as': 'asm',\n",
        "    'av': 'ava',\n",
        "    'ay': 'aym',\n",
        "    'az': 'aze',\n",
        "    'ba': 'bak',\n",
        "    'be': 'bel',\n",
        "    'bg': 'bul',\n",
        "    'bi': 'bis',\n",
        "    'bm': 'bam',\n",
        "    'bn': 'ben',\n",
        "    'bo': 'bod',\n",
        "    'br': 'bre',\n",
        "    'bs': 'bos',\n",
        "    'ca': 'cat',\n",
        "    'ce': 'che',\n",
        "    'ch': 'cha',\n",
        "    'co': 'cos',\n",
        "    'cr': 'cre',\n",
        "    'cs': 'ces',\n",
        "    'cu': 'chu',\n",
        "    'cv': 'chv',\n",
        "    'cy': 'cym',\n",
        "    'da': 'dan',\n",
        "    'de': 'deu',\n",
        "    'dv': 'div',\n",
        "    'dz': 'dzo',\n",
        "    'ee': 'ewe',\n",
        "    'el': 'ell',\n",
        "    'en': 'eng',\n",
        "    'eo': 'epo',\n",
        "    'es': 'spa',\n",
        "    'et': 'est',\n",
        "    'eu': 'eus',\n",
        "    'fa': 'pes',\n",
        "    'ff': 'ful',\n",
        "    'fi': 'fin',\n",
        "    'fj': 'fij',\n",
        "    'fo': 'fao',\n",
        "    'fr': 'fra',\n",
        "    'fy': 'fry',\n",
        "    'ga': 'gle',\n",
        "    'gd': 'gla',\n",
        "    'gl': 'glg',\n",
        "    'gn': 'grn',\n",
        "    'gu': 'guj',\n",
        "    'gv': 'glv',\n",
        "    'ha': 'hau',\n",
        "    'he': 'heb',\n",
        "    'hi': 'hin',\n",
        "    'ho': 'hmo',\n",
        "    'hr': 'hrv',\n",
        "    'ht': 'hat',\n",
        "    'hu': 'hun',\n",
        "    'hy': 'hye',\n",
        "    'hz': 'her',\n",
        "    'ia': 'ina',\n",
        "    'id': 'ind',\n",
        "    'ie': 'ile',\n",
        "    'ig': 'ibo',\n",
        "    'ii': 'iii',\n",
        "    'ik': 'ipk',\n",
        "    'io': 'ido',\n",
        "    'is': 'isl',\n",
        "    'it': 'ita',\n",
        "    'iu': 'iku',\n",
        "    'ja': 'jpn',\n",
        "    'jv': 'jav',\n",
        "    'ka': 'kat',\n",
        "    'kg': 'kon',\n",
        "    'ki': 'kik',\n",
        "    'kj': 'kua',\n",
        "    'kk': 'kaz',\n",
        "    'kl': 'kal',\n",
        "    'km': 'khm',\n",
        "    'kn': 'kan',\n",
        "    'ko': 'kor',\n",
        "    'kr': 'kau',\n",
        "    'ks': 'kas',\n",
        "    'ku': 'kur',\n",
        "    'kv': 'kom',\n",
        "    'kw': 'cor',\n",
        "    'ky': 'kir',\n",
        "    'la': 'lat',\n",
        "    'lb': 'ltz',\n",
        "    'lg': 'lug',\n",
        "    'li': 'lim',\n",
        "    'ln': 'lin',\n",
        "    'lo': 'lao',\n",
        "    'lt': 'lit',\n",
        "    'lu': 'lub',\n",
        "    'lv': 'lav',\n",
        "    'mg': 'mlg',\n",
        "    'mh': 'mah',\n",
        "    'mi': 'mri',\n",
        "    'mk': 'mkd',\n",
        "    'ml': 'mal',\n",
        "    'mn': 'mon',\n",
        "    'mr': 'mar',\n",
        "    'ms': 'zsm',\n",
        "    'mt': 'mlt',\n",
        "    'my': 'mya',\n",
        "    'na': 'nau',\n",
        "    'nb': 'nob',\n",
        "    'nd': 'nde',\n",
        "    'ne': 'nep',\n",
        "    'ng': 'ndo',\n",
        "    'nl': 'nld',\n",
        "    'nn': 'nno',\n",
        "    'no': 'nob',\n",
        "    'nr': 'nbl',\n",
        "    'nv': 'nav',\n",
        "    'ny': 'nya',\n",
        "    'oc': 'oci',\n",
        "    'oj': 'oji',\n",
        "    'om': 'orm',\n",
        "    'or': 'ori',\n",
        "    'os': 'oss',\n",
        "    'pa': 'pan',\n",
        "    'pi': 'pli',\n",
        "    'pl': 'pol',\n",
        "    'ps': 'pus',\n",
        "    'pt': 'por',\n",
        "    'qu': 'que',\n",
        "    'rm': 'roh',\n",
        "    'rn': 'run',\n",
        "    'ro': 'ron',\n",
        "    'ru': 'rus',\n",
        "    'rw': 'kin',\n",
        "    'sa': 'san',\n",
        "    'sc': 'srd',\n",
        "    'sd': 'snd',\n",
        "    'se': 'sme',\n",
        "    'sg': 'sag',\n",
        "    'sh': 'hbs',\n",
        "    'si': 'sin',\n",
        "    'sk': 'slk',\n",
        "    'sl': 'slv',\n",
        "    'sm': 'smo',\n",
        "    'sn': 'sna',\n",
        "    'so': 'som',\n",
        "    'sq': 'sqi',\n",
        "    'sr': 'srp',\n",
        "    'ss': 'ssw',\n",
        "    'st': 'sot',\n",
        "    'su': 'sun',\n",
        "    'sv': 'swe',\n",
        "    'sw': 'swa',\n",
        "    'ta': 'tam',\n",
        "    'te': 'tel',\n",
        "    'tg': 'tgk',\n",
        "    'th': 'tha',\n",
        "    'ti': 'tir',\n",
        "    'tk': 'tuk',\n",
        "    'tl': 'tgl',\n",
        "    'tn': 'tsn',\n",
        "    'to': 'ton',\n",
        "    'tr': 'tur',\n",
        "    'ts': 'tso',\n",
        "    'tt': 'tat',\n",
        "    'tw': 'twi',\n",
        "    'ty': 'tah',\n",
        "    'ug': 'uig',\n",
        "    'uk': 'ukr',\n",
        "    'ur': 'urd',\n",
        "    'uz': 'uzb',\n",
        "    've': 'ven',\n",
        "    'vi': 'vie',\n",
        "    'vo': 'vol',\n",
        "    'wa': 'wln',\n",
        "    'wo': 'wol',\n",
        "    'xh': 'xho',\n",
        "    'yi': 'yid',\n",
        "    'yo': 'yor',\n",
        "    'za': 'zha',\n",
        "    'zh': 'cmn',\n",
        "    'zu': 'zul'}"
      ],
      "metadata": {
        "id": "1JAAOWxptBR-"
      },
      "execution_count": null,
      "outputs": []
    }
  ],
  "metadata": {
    "colab": {
      "collapsed_sections": [],
      "machine_shape": "hm",
      "name": "TianLAN_TP2.ipynb",
      "provenance": [],
      "toc_visible": true,
      "include_colab_link": true
    },
    "kernelspec": {
      "display_name": "Python 3",
      "name": "python3"
    },
    "language_info": {
      "name": "python"
    }
  },
  "nbformat": 4,
  "nbformat_minor": 0
}